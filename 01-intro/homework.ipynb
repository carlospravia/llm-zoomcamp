{
 "cells": [
  {
   "cell_type": "code",
   "execution_count": 1,
   "id": "d0ed2f3a-6a21-42dd-99f1-dc319a989000",
   "metadata": {},
   "outputs": [],
   "source": [
    "import openai"
   ]
  },
  {
   "cell_type": "code",
   "execution_count": 2,
   "id": "ee5d1a52-bd6f-47d1-992a-011891220ace",
   "metadata": {},
   "outputs": [],
   "source": [
    "from openai import OpenAI"
   ]
  },
  {
   "cell_type": "code",
   "execution_count": 15,
   "id": "ae177f06-e3aa-481a-b70f-a9f83b4c98de",
   "metadata": {},
   "outputs": [],
   "source": [
    "client = OpenAI()"
   ]
  },
  {
   "cell_type": "code",
   "execution_count": 16,
   "id": "292e80f2-db35-497a-b005-699144c5945f",
   "metadata": {},
   "outputs": [],
   "source": [
    "import os"
   ]
  },
  {
   "cell_type": "code",
   "execution_count": 24,
   "id": "a7426993-6e4c-4adf-8272-152b26e162a5",
   "metadata": {},
   "outputs": [],
   "source": [
    "response = client.chat.completions.create(\n",
    "    model=\"gpt-4o\",\n",
    "    messages=[{\"role\":\"user\",\"content\":\"is it too late to join the course?\"}]\n",
    ")"
   ]
  },
  {
   "cell_type": "code",
   "execution_count": 26,
   "id": "8dda1453-2f07-4859-beba-fb5a3d621076",
   "metadata": {},
   "outputs": [
    {
     "data": {
      "text/plain": [
       "\"To determine if it's too late to join a course, you'll need to check several factors:\\n\\n1. **Enrollment Deadlines:** Look up the specific enrollment deadlines for the course. This information is often available on the institution’s website or course page.\\n\\n2. **Course Start Date:** Check if the course has already started. Some courses allow late enrollment, but this is often limited to a specific period after the class begins.\\n\\n3. **Instructor/Institution Policy:** Some institutions or instructors may allow late enrollment under certain circumstances. It could be worth contacting them directly to inquire.\\n\\n4. **Course Type:** Online courses may have more flexible enrollment options compared to in-person classes. Additionally, self-paced online courses might allow enrollment at any time.\\n\\n5. **Potential Catch-Up Work:** If late enrollment is possible, consider how much material you will need to make up and whether you can realistically catch up on the missed work.\\n\\nIf you provide more specific details about the course, I might be able to offer more tailored advice.\""
      ]
     },
     "execution_count": 26,
     "metadata": {},
     "output_type": "execute_result"
    }
   ],
   "source": [
    "response.choices[0].message.content"
   ]
  },
  {
   "cell_type": "code",
   "execution_count": null,
   "id": "ce7ca6d8-e0c1-4ebb-971e-a544a3d266b4",
   "metadata": {},
   "outputs": [],
   "source": []
  }
 ],
 "metadata": {
  "kernelspec": {
   "display_name": "Python 3 (ipykernel)",
   "language": "python",
   "name": "python3"
  },
  "language_info": {
   "codemirror_mode": {
    "name": "ipython",
    "version": 3
   },
   "file_extension": ".py",
   "mimetype": "text/x-python",
   "name": "python",
   "nbconvert_exporter": "python",
   "pygments_lexer": "ipython3",
   "version": "3.12.1"
  }
 },
 "nbformat": 4,
 "nbformat_minor": 5
}
